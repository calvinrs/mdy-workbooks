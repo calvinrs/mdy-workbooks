{
 "cells": [
  {
   "cell_type": "markdown",
   "metadata": {},
   "source": [
    "# TMT Editor Phase 2 - Behavior guide\n",
    "\n",
    "## Overview \n",
    "\n",
    "On completion of phase 2 of the TMT editor appplication we will be able to fully edit an existing tool configuration, including the ability to turn this into a brand new tool definition.  \n",
    "\n",
    "From the [gathering of features for phase 2](https://trello.com/b/UicisECD/tmt-editor-features), we will have the ability to do the following:\n",
    "\n",
    "![*trello list*](images/TMTphase2Features.GIF)\n",
    "\n",
    "\n",
    "## Features\n",
    "\n",
    "We will focus in here on the first four actions. This will allow us to ADD, DELETE and CHANGE models within a Tool's TMT configuration (dependent on their optional and anchored status, different rules will apply). We should also be able to edit the definition of the current Tool, which will create a brand new instance of the Tool and its TMT, with checks for existing configuration for the tool and its output to ensure thiat this is unique.  \n",
    "\n",
    "The ability to create new TMT config from \"NoGhost\" entries on the master loader is a stretch goal. This will create a new tool instance, and open a pre-filled TMT editor with a decent first guess of what should be the configuration for this new entry, based on other existing similar configurations.  \n",
    "\n",
    "The remaining features are cosmetic changes.\n"
   ]
  },
  {
   "cell_type": "markdown",
   "metadata": {},
   "source": [
    "## Test Case - editing EUR G2 credit\n",
    "\n",
    "As an example case, we can test these features by taking an existing copy of MC EUR G2 Credit, and modifying it to use \"raw\" EUR_DEM market data.  \n",
    "\n",
    "The scripts used to create this can be found in *U:\\CS\\2017 Projects\\TMT Editor\\Phase 2\\Examples\\...*\n",
    "\n",
    "![](images/TMTExampleScriptsFolder.GIF)\n",
    "\n",
    "The script *TMT_Clone_EUR_G_NYC_Market_Credit_To_TestCandidate_A.sql* will make a copy of the original MC EUR G2 Credit configuration, re-streamed so that the tool and inputs will be labelled *TestCandidate_A*. All inputs are the same as in the original calibration, so the content of the output model will remain the same.   \n",
    "\n",
    "The script *TMT_Clone_EUR_G_NYC_Market_Credit_To_TestCandidate_C_withChangesToInputData.sql* will make a copy of the original MC EUR G2 Credit configuration, re-streamed so that the tool and inputs will be labelled *TestCandidate_C*. Here, the inputs are edited so that it will use \"raw\" EUR_DEM market data instead of adjusted data - to be consistent, this requires a change and an addition to the optional input yield curves to the tool.  \n",
    "\n",
    "Our goal here is to use the TMT editor to make *TestCandidate_A* behave in the same way as *TestCandidate_C*, and save this calibration under a new stream *TestCandidate_B*.  \n",
    "\n",
    "We can show the configuration of the tools for both the before (A) and after (C) streams in the phase 1 editor as follows:  \n",
    "\n",
    "http://lhr-wbsdiweb501/CalibrationTools/TMTEditor/2017-06-30/Credit/TestCandidate_A/MC/G/EUR/NONE/NONE  \n",
    "\n",
    "![](images/G2_TMTEditior_TestCandidate_A.GIF)\n",
    "\n",
    "http://lhr-wbsdiweb501/CalibrationTools/TMTEditor/2017-06-30/Credit/TestCandidate_C/MC/G/EUR/NONE/NONE  \n",
    "\n",
    "![](images/G2_TMTEditior_TestCandidate_C.GIF)\n",
    "\n"
   ]
  },
  {
   "cell_type": "markdown",
   "metadata": {},
   "source": [
    "# A to B walkthrough\n",
    "\n",
    "## A to B steps\n",
    "To turn the configuration for *TestCandidate_A* into a calibration that matches the desired solution in *TestCandidate_C*, we need to do the following:\n",
    "\n",
    "+ ADD a model configuration as the optional *OutputDataBasis* anchored model. This will be the EUR government curve, which is identical to the model currently sitting in the *MarketDataBasis* slot, so we can use that as a guide for filling in the fields.\n",
    "+ CHANGE the *MarketDataBasis* anchored model, so that this now uses the EUR_DEM curve - changing the Economy field will do this.\n",
    "+ CHANGE the *MarketData.Credit.Spreads* anchored model so that this is now using the EUR_DEM economy.\n",
    "+ We can now save the TOOL as a completely new instance. We can achieve this by changing the stream is to *TestCandidate_B*.\n",
    "+ As we have changed input models, we will need to change the stream for the output model. We can edit the **output** model for *Econ.Credit.CreditG2.StochDriver*, so that the stream is now *TestCandidate_B*.\n",
    "    + As the TOOL edit should detect that the output model is already in use for another TMT config, so when we try to save this config, we should be warned that the \"output model is in use elsewhere - please change\" (or words to that effect). \n",
    "\n",
    "### CHANGE operations\n",
    "\n",
    "Note that behind the scenes, in the TMT (ToolModelInstance) table, a CHANGE action is a combination of a DELETE followed by an ADD.  \n",
    "\n",
    "### DELETE via a bonus ADD\n",
    "\n",
    "In our example case for  MC EUR G2 Credit, we do not need to explicitly delete anything to get to our desired state. We can add a new model to an existing optional anchored model, with the intention of deleting it afterwards to test this feature.  \n",
    "\n",
    "In the Credit tool, we have optional inputs for \"MarketData.Bonds.Corporate\" and \"MarketData.Credit.Spreads\". In the EUR case, this is populated only for one expected data type - credit spreads.  \n",
    "\n",
    "To demonstrate the ADD feature, we will add a valid model in the \"MarketData.Bonds.Corporate\" slot. A correct configuration for this will be to enter \"MarketData.Bonds.Corporate\" in the \"Name\" field, and fill in all other fields as the *MarketData.Credit.Spreads* model.\n",
    "\n",
    "Thanks to our delibarate inclusion of some extra \"MarketData.Bonds.Corporate\" data that we do not want to appear in the solution case, we now have something to remove.  \n",
    "\n",
    "To demonstrate the DELETE feature, we will delete the \"MarketData.Bonds.Corporate\" anchored model we have just added.\n",
    "\n",
    "### DELETE for anchored non-optional models should be disabled\n",
    "\n",
    "We still should NOT be able to delete anchored non-optional models in the TMT editor.  \n",
    "\n",
    "We may CHANGE these, so indirectly, these will be deleted from the TMT tables, but not without a companion ADD action to replace it.\n",
    "\n",
    "### ADD / DELETE / CHANGE for unanchored models\n",
    "\n",
    "We should be able to ADD, DELETE and CHANGE as many unanchored input models as we wish to.  \n",
    "\n",
    "We can add an unanchored model by...? *What will we have in the UI a\n",
    "\n",
    "We can then delete this - not part of our example here.\n"
   ]
  }
 ],
 "metadata": {
  "kernelspec": {
   "display_name": "F#",
   "language": "fsharp",
   "name": "ifsharp"
  },
  "language": "fsharp",
  "language_info": {
   "codemirror_mode": "",
   "file_extension": ".fs",
   "mimetype": "text/x-fsharp",
   "name": "fsharp",
   "nbconvert_exporter": "",
   "pygments_lexer": "",
   "version": "4.3.1.0"
  },
  "toc": {
   "colors": {
    "hover_highlight": "#DAA520",
    "navigate_num": "#000000",
    "navigate_text": "#333333",
    "running_highlight": "#FF0000",
    "selected_highlight": "#FFD700",
    "sidebar_border": "#EEEEEE",
    "wrapper_background": "#FFFFFF"
   },
   "moveMenuLeft": true,
   "nav_menu": {
    "height": "299px",
    "width": "252px"
   },
   "navigate_menu": true,
   "number_sections": true,
   "sideBar": true,
   "threshold": 4,
   "toc_cell": false,
   "toc_section_display": "block",
   "toc_window_display": false,
   "widenNotebook": false
  }
 },
 "nbformat": 4,
 "nbformat_minor": 2
}

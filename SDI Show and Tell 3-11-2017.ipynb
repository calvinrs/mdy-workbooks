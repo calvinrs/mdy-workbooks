{
 "cells": [
  {
   "cell_type": "markdown",
   "metadata": {},
   "source": [
    "# SDI Show & Tell 3/11/2017\n",
    "\n",
    "## Agenda\n",
    "\n",
    "-\tTMT Diagram Enhancements (Alan\\Calvin) Feature: BHC Enhancements\n",
    "-\tTMT Editor Phase 2 and Phase 3; this includes adding, changing, deleting and cloning models (Alan\\Calvin) Feature: BHC Enhancements\n",
    "-\tPost Mortem Defects – discussion around what has been fixed (Angela) Feature: Post Mortem Q3\n",
    "-\tEUR_DEM credit tool removal – what this now means (Calvin)\n",
    "-\tChild Equity Integration (Alan\\Calvin) Feature: RW Equity Enhancements\n",
    "-\tPowerShell RR Fragment Production (Calvin) Feature: BHC Enhancements\n",
    "-\tDemo of Micro service (Alan) Feature: Service Delivery Infrastructure\n",
    "\n",
    "\n",
    "-\tSprint Retro (only for the Project Team)\t\n",
    "    o\tRecap of Sprint Goals versus delivery\n",
    "    o\tWhat went well, what didn’t go so well and what we can change\n"
   ]
  },
  {
   "cell_type": "markdown",
   "metadata": {},
   "source": [
    "## All credit tools - EUR using EUR_DEM data directly\n",
    "\n",
    "Displacing the need for a EUR - > EUR_DEM market data sorter.\n",
    "\n",
    "We can use the same approach that we use to make \"swap\" adjustments to correct the market data in-tool.  \n",
    "\n",
    "http://localhost:8888/notebooks/workbooks/Credit%20Spread%20Adjustment.ipynb\n",
    "\n",
    "Spreads are slightly different, due to differences in the order of interpolation, rounding and adjustment - when rounded to basis points, the changes are neglegable. There is the added bonus that clients can reproduce this approach without an addtional sorter tool.  \n",
    "\n",
    "Applied to all \"credit\" tools for EUR - so \"credit\" G2 and Dual Term Premium, \"old\" G2 and G3.  \n",
    "\n",
    "Example: http://lhr-wbesgapp157/CalibrationTools/TMTEditor/2017-09-30/Credit/NYC_Market/MC/S/EUR/NONE/NONE\n",
    "\n",
    "We still produce the EUR credit data with a sorter so that 1YVar credit can use it - we don't want to change the process here.  \n",
    "\n"
   ]
  },
  {
   "cell_type": "markdown",
   "metadata": {},
   "source": [
    "## TMT Editor\n",
    "\n",
    "Completion of phase 2 and phase 3 of the editor project. We now have the ability to fully edit and clone any *individual* calibration tool's configuration.  \n",
    "\n",
    "Behaviour guides set out for each phase to aid testing.\n",
    "\n",
    "[Phase 2](http://nbviewer.jupyter.org/github/calvinrs/mdy-workbooks/blob/master/TMT%20Phase%202%20Behaviour%20Guide.ipynb)\n",
    "[Phase 3](http://nbviewer.jupyter.org/github/calvinrs/mdy-workbooks/blob/master/TMT%20Phase%203%20Behaviour%20Guide.ipynb)\n",
    "\n",
    "This is represented in the API (I'm not sure where,probably [this](http://lhr-wbesgapp157/Api/swagger/ui/index#!/TMT/TMT_CloneToolModelInfos)...). Full API avaliablity on http://lhr-wbesgapp157/Api/swagger/ui/index\n",
    "\n",
    "### Suggested Examples\n",
    "\n",
    "Create the \"original\" EUR Credit calibration approach.\n",
    "+ Clone to a test stream\n",
    "+ Edit the models and commit\n",
    "+ Will need to add this to the master loader\n",
    "    \n",
    "\n"
   ]
  },
  {
   "cell_type": "markdown",
   "metadata": {},
   "source": [
    "## TMT Diagram Performance Enhancements\n",
    "\n",
    "Changes to allow the TMT diagram to be used efficiently when looking at large networks.  \n",
    "\n",
    "As we now have more BHC definitions moved on to the **BHC Creator**, we have many more of these.\n",
    "\n",
    "+ Search and Highlight in the network\n",
    "+ Expand individual nodes"
   ]
  },
  {
   "cell_type": "markdown",
   "metadata": {},
   "source": [
    "## Child Equity Tool\n",
    "\n",
    "We have created a Child Equity Tool from the Real World equity toolkit.  \n",
    "\n",
    "Examples: \n",
    "\n",
    "EUR-based: http://lhr-wbesgapp157/CalibrationTools/Document/2017-09-30/ChildEquity/Best_Views/RW/NONE/NONE/EMDebt_EUR,EURSTOXX50,EUR_HY_Bonds_ML/NONE  \n",
    "GBP Based: http://lhr-wbesgapp157/CalibrationTools/Document/2017-09-30/ChildEquity/Best_Views/RW/NONE/NONE/EMDebt_EUR,EURSTOXX50,EUR_HY_Bonds_ML,BG_PFI_Infrastructure,Child_HY_BB_Bonds_GBP,EMDebt_GBP,FTSE100,HF/NONE  \n",
    "GBP others: http://lhr-wbesgapp157/CalibrationTools/Document/2017-09-30/ChildEquity/Best_Views/RW/NONE/NONE/HSBC_AR_GBP,HighIncome_Equity_GBP,MSCI_EM_GBP,MSCI_WRLD_GBP,MSCI_WRLD_SmallCap,MSCI_WRLD_SmallCap_Hedged,MSCI_WRLDexUK_GBP,MSCI_WRLDexUK_Hedged,MadeUpTest,Octopus_GlobalStrategy_GBP,Sesame_HF_Equity_GBP/NONE  \n",
    "USD based: http://lhr-wbesgapp157/CalibrationTools/Document/2017-09-30/ChildEquity/Best_Views/RW/NONE/NONE/DJ_Ind_Av,DJ_UBS_Commodities_USD,EM%20Corporate%20Bonds,EMDebt_Local,EMDebt_USDLocal,EMDebt_USD,Global%20High%20Income,Global%20REITs,Global_HY_Bonds_ML_USD,SP_ListedPrivateEquity_USD,Sesame_HF_FixedIncome_USD,US_HY_Bonds_ML_USD/NONE  \n",
    "Commodities & HF: http://lhr-wbesgapp157/CalibrationTools/Document/2017-09-30/ChildEquity/Best_Views/RW/NONE/NONE/JSE_TOP40,Child_HYBond,Commodities_GBP,Commodities_USD,HF_EUR,HF_GBP,HF_JPY,HF_USD,PE_EUR,PE_GBP,PE_JPY,PE_USD/NONE  \n",
    "\n",
    "\n",
    "This will not be released until Q1, but testing has been completed. We have used the documentation creator to create a \"front-end\" for testing.  \n",
    "\n",
    "NB: We need to rationalise the data gathering for child equities, as this piece is still mucho confusing."
   ]
  },
  {
   "cell_type": "markdown",
   "metadata": {},
   "source": [
    "## Hull-White Real Rates checkup\n",
    "\n",
    "As we eagerly await the final decision on how we will calibrate path-dependent real rates using the Hull-White TVTP tool, we tool the tool out for a spin to check that it was ready to go.  \n",
    "\n",
    "A couple of BHC bug fixes later, its all go!  \n",
    "\n",
    "TMT editor direct link: http://lhr-wbesgapp157/CalibrationTools/TMTEditor/2017-09-30/HullWhiteTVTP/TestCandidate_E/RW/G/GBP/NONE/NONE\n",
    "BHC direct link: http://lhr-wbesgapp157/Api/bhc/get/2017-09-30/HullWhiteTVTP/TestCandidate_E/RW/G/GBP/NONE/NONE?esgVersion=7.3&includeCorrelation=false"
   ]
  },
  {
   "cell_type": "markdown",
   "metadata": {},
   "source": [
    "## Real Rate Fragments (using API thru powershell)\n",
    "\n",
    "We can now create BHC fragments using the BHC creator, by including the optional argument \"*includeCorrelation=false*\"\n",
    "\n",
    "*Fragment = No correlation, just the individual models.*\n",
    "\n",
    "This allows us to create the BHC fragments we deliver for-each-economy for additional real rate swap fits. Added to the MC BHC view.  \n",
    "\n",
    "For bulk downloading of all of these BHC fragment files, we can use a powershell script to mince through the repeated API calls to the BHC location, and save the result to disk: \n",
    "\n",
    "Demo in [U:\\CS\\2017 Projects\\Real Rate Fragments\\Powershell\\](U:\\CS\\2017 Projects\\Real Rate Fragments\\Powershell\\)\n",
    "\n",
    "Note that we only hit the \"get BHC\" API call, not the \"run tool\" one to create it first - we could include this if we wanted to.  "
   ]
  },
  {
   "cell_type": "markdown",
   "metadata": {},
   "source": [
    "#### Bonus rollover content"
   ]
  },
  {
   "cell_type": "markdown",
   "metadata": {},
   "source": [
    "## Muni Bond Calibration, Validation and Documentation\n",
    "\n",
    "We now have the works for Municipal Bonds: [documentation](http://lhr-wbesgapp157/CalibrationTools/Document/2017-09-30/Credit/BV_CreditDualTP/MC/G/USD/NONE/MunicipalCreditModel) shows the whole thing.  \n",
    "\n",
    "### Correlation Building bug fix\n",
    "\n",
    "We required a fix for the BHC creator* to get the Muni correlations correct.  \n",
    "\n",
    "To stop this behaving like a traditional credit model, we need to add additonal \"Specific\" entries to set Factor Vs Muni correlations to zero. \n",
    "This was not active for assets using an addable submodel, so this needed fixing before this would be applied correctly.  \n",
    "\n",
    "For a detailed example of this, see the results of: [U:\\CS\\2017 Projects\\Muni Validation\\Muni Correlations\\Try_GetModelTableAsBHCandCorrel.sql](U:\\CS\\2017 Projects\\Muni Validation\\Muni Correlations\\Try_GetModelTableAsBHCandCorrel.sql)  \n",
    "\n",
    "As users are closer to being able to define their own BHC files, a refresher course in how we define and create correlation matrices would be timely.  \n",
    "\n",
    "*BHC Builder has different issues with muni bonds - we chose to fix the \"Creator\" only *"
   ]
  },
  {
   "cell_type": "markdown",
   "metadata": {},
   "source": [
    "## LMM+ Seeding Experements\n",
    "\n",
    "Evaluating that it is possible to create a TMT setup that uses one LMM+ fit (Monthly) as the seeding source for other now downstream LMM+ calibrations.  \n",
    "\n",
    "Example on the \"MC Solvency II\" view.  \n",
    "\n",
    "Verdict: Possible, but will depend on how we set up the bounds - it's easy to set invalid bounds for some parameters (e.g. correlation). "
   ]
  },
  {
   "cell_type": "markdown",
   "metadata": {},
   "source": [
    "#### POST-MORTEM WRAPUP\n",
    "\n",
    "### Document Chart Axis change\n",
    "\n",
    "Removing the \"count\" constraint from documents, which was causing irregularly-spaced tick marks.  \n",
    "\n",
    "Compare [SDI](http://sdi/CalibrationTools/Document/2017-09-30/YCB/NYC_Market/MC/S/AUD/NONE/NONE) with the [original](http://lhr-wbesgapp157/CalibrationTools/Document/2017-09-30/YCB/NYC_Market/MC/S/AUD/NONE/NONE).  \n",
    "\n",
    "Take a show of hands to confirm we want to make this change across the board.  "
   ]
  },
  {
   "cell_type": "markdown",
   "metadata": {},
   "source": [
    "### MC Equity and RW Best Views docs ready for evaluation\n",
    "\n",
    "For example, [constant vol](http://sdi/CalibrationTools/Document/2017-09-30/ConstVol/EQ_MC_Correlated/MC/G/NONE/E_EUR,AEX,CAC,DAX,IBEX,MIB/NONE) is a full doc with correlations.  \n",
    "\n",
    "For [Real World Best Views Economy](http://sdi/CalibrationTools/Document/2017-09-30/BhcCreator/Best_Views/RW/G/CAD/NONE/NONE) documents, the full document as it would be delivered to clients is ready.  \n"
   ]
  },
  {
   "cell_type": "markdown",
   "metadata": {},
   "source": [
    "## MicroServices\n",
    "\n",
    "Handover to AB..."
   ]
  }
 ],
 "metadata": {
  "kernelspec": {
   "display_name": "Python 3",
   "language": "python",
   "name": "python3"
  },
  "language_info": {
   "codemirror_mode": {
    "name": "ipython",
    "version": 3
   },
   "file_extension": ".py",
   "mimetype": "text/x-python",
   "name": "python",
   "nbconvert_exporter": "python",
   "pygments_lexer": "ipython3",
   "version": "3.6.0"
  },
  "toc": {
   "colors": {
    "hover_highlight": "#DAA520",
    "navigate_num": "#000000",
    "navigate_text": "#333333",
    "running_highlight": "#FF0000",
    "selected_highlight": "#FFD700",
    "sidebar_border": "#EEEEEE",
    "wrapper_background": "#FFFFFF"
   },
   "moveMenuLeft": true,
   "nav_menu": {
    "height": "481px",
    "width": "252px"
   },
   "navigate_menu": true,
   "number_sections": false,
   "sideBar": true,
   "threshold": 4,
   "toc_cell": false,
   "toc_position": {
    "height": "808px",
    "left": "0px",
    "right": "1468px",
    "top": "151px",
    "width": "212px"
   },
   "toc_section_display": "block",
   "toc_window_display": false,
   "widenNotebook": false
  }
 },
 "nbformat": 4,
 "nbformat_minor": 2
}

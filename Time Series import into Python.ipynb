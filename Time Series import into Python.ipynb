{
 "cells": [
  {
   "cell_type": "markdown",
   "metadata": {},
   "source": [
    "# Time Series imports in Python example"
   ]
  },
  {
   "cell_type": "markdown",
   "metadata": {},
   "source": [
    "We can mock up the result of a query on the TimeSeries API, and save this result to a local .json file.  \n",
    "\n",
    "The layout of this example JSON is as follows:"
   ]
  },
  {
   "cell_type": "code",
   "execution_count": 9,
   "metadata": {
    "code_folding": [],
    "collapsed": false,
    "hide_input": true,
    "scrolled": true
   },
   "outputs": [
    {
     "data": {
      "text/plain": [
       "{'calibrationType': 'Market Consistent',\n",
       " 'economy': 'AUD',\n",
       " 'end_date': '2013-03-31',\n",
       " 'equityAsset': 'E_Somthing',\n",
       " 'modelName': 'Some.Model.FQN',\n",
       " 'rates': [{'Date': '2013-01-31', 'value': '100.00'},\n",
       "  {'Date': '2013-02-28', 'value': '105.00'},\n",
       "  {'Date': '2013-03-31', 'value': '110.00'}],\n",
       " 'start_date': '2013-01-31'}"
      ]
     },
     "execution_count": 9,
     "metadata": {},
     "output_type": "execute_result"
    }
   ],
   "source": [
    "{\n",
    "\t\"modelName\": \"Some.Model.FQN\",\n",
    "\t\"calibrationType\": \"Market Consistent\",\n",
    "\t\"start_date\": \"2013-01-31\",\n",
    "\t\"end_date\": \"2013-03-31\",\n",
    "\t\"economy\": \"AUD\",\n",
    "\t\"equityAsset\": \"E_Somthing\",\n",
    "\t\"rates\": [{\n",
    "\t\t\t\"Date\": \"2013-01-31\",\n",
    "\t\t\t\"value\": \"100.00\"\n",
    "\t\t},\n",
    "\t\t{\n",
    "\t\t\t\"Date\": \"2013-02-28\",\n",
    "\t\t\t\"value\": \"105.00\"\n",
    "\t\t},\n",
    "\t\t{\n",
    "\t\t\t\"Date\": \"2013-03-31\",\n",
    "\t\t\t\"value\": \"110.00\"\n",
    "\t\t}\n",
    "\t]\n",
    "}"
   ]
  },
  {
   "cell_type": "markdown",
   "metadata": {},
   "source": [
    "We can import this raw file into a Pandas dataframe"
   ]
  },
  {
   "cell_type": "code",
   "execution_count": 5,
   "metadata": {
    "collapsed": false,
    "scrolled": true
   },
   "outputs": [
    {
     "data": {
      "text/html": [
       "<div>\n",
       "<table border=\"1\" class=\"dataframe\">\n",
       "  <thead>\n",
       "    <tr style=\"text-align: right;\">\n",
       "      <th></th>\n",
       "      <th>calibrationType</th>\n",
       "      <th>economy</th>\n",
       "      <th>end_date</th>\n",
       "      <th>equityAsset</th>\n",
       "      <th>modelName</th>\n",
       "      <th>rates</th>\n",
       "      <th>start_date</th>\n",
       "    </tr>\n",
       "  </thead>\n",
       "  <tbody>\n",
       "    <tr>\n",
       "      <th>0</th>\n",
       "      <td>Market Consistent</td>\n",
       "      <td>AUD</td>\n",
       "      <td>2013-03-31</td>\n",
       "      <td>E_Somthing</td>\n",
       "      <td>Some.Model.FQN</td>\n",
       "      <td>{'Date': '2013-01-31', 'value': '100.00'}</td>\n",
       "      <td>2013-01-31</td>\n",
       "    </tr>\n",
       "    <tr>\n",
       "      <th>1</th>\n",
       "      <td>Market Consistent</td>\n",
       "      <td>AUD</td>\n",
       "      <td>2013-03-31</td>\n",
       "      <td>E_Somthing</td>\n",
       "      <td>Some.Model.FQN</td>\n",
       "      <td>{'Date': '2013-02-28', 'value': '105.00'}</td>\n",
       "      <td>2013-01-31</td>\n",
       "    </tr>\n",
       "    <tr>\n",
       "      <th>2</th>\n",
       "      <td>Market Consistent</td>\n",
       "      <td>AUD</td>\n",
       "      <td>2013-03-31</td>\n",
       "      <td>E_Somthing</td>\n",
       "      <td>Some.Model.FQN</td>\n",
       "      <td>{'Date': '2013-03-31', 'value': '110.00'}</td>\n",
       "      <td>2013-01-31</td>\n",
       "    </tr>\n",
       "  </tbody>\n",
       "</table>\n",
       "</div>"
      ],
      "text/plain": [
       "     calibrationType economy   end_date equityAsset       modelName  \\\n",
       "0  Market Consistent     AUD 2013-03-31  E_Somthing  Some.Model.FQN   \n",
       "1  Market Consistent     AUD 2013-03-31  E_Somthing  Some.Model.FQN   \n",
       "2  Market Consistent     AUD 2013-03-31  E_Somthing  Some.Model.FQN   \n",
       "\n",
       "                                       rates start_date  \n",
       "0  {'Date': '2013-01-31', 'value': '100.00'} 2013-01-31  \n",
       "1  {'Date': '2013-02-28', 'value': '105.00'} 2013-01-31  \n",
       "2  {'Date': '2013-03-31', 'value': '110.00'} 2013-01-31  "
      ]
     },
     "execution_count": 5,
     "metadata": {},
     "output_type": "execute_result"
    }
   ],
   "source": [
    "import pandas as pd\n",
    "\n",
    "filepath  = 'C:\\\\Users\\\\stewarca\\\\data\\\\'\n",
    "ExFile = 'our-time-series.json'\n",
    "\n",
    "\n",
    "TS = pd.read_json(filepath + ExFile, convert_dates = ['end_date','start_date'])\n",
    "TS.head()\n"
   ]
  },
  {
   "cell_type": "markdown",
   "metadata": {},
   "source": [
    "We will need one further step to convert the inner results of the \"rates\" column into JSON, and then convert that to a new dataframe. \n",
    "\n",
    "We can then index this by the \"Date\" to create a true time series."
   ]
  },
  {
   "cell_type": "code",
   "execution_count": 6,
   "metadata": {
    "collapsed": false,
    "scrolled": true
   },
   "outputs": [
    {
     "data": {
      "text/html": [
       "<div>\n",
       "<table border=\"1\" class=\"dataframe\">\n",
       "  <thead>\n",
       "    <tr style=\"text-align: right;\">\n",
       "      <th></th>\n",
       "      <th>value</th>\n",
       "    </tr>\n",
       "    <tr>\n",
       "      <th>Date</th>\n",
       "      <th></th>\n",
       "    </tr>\n",
       "  </thead>\n",
       "  <tbody>\n",
       "    <tr>\n",
       "      <th>2013-01-31</th>\n",
       "      <td>100</td>\n",
       "    </tr>\n",
       "    <tr>\n",
       "      <th>2013-02-28</th>\n",
       "      <td>105</td>\n",
       "    </tr>\n",
       "    <tr>\n",
       "      <th>2013-03-31</th>\n",
       "      <td>110</td>\n",
       "    </tr>\n",
       "  </tbody>\n",
       "</table>\n",
       "</div>"
      ],
      "text/plain": [
       "            value\n",
       "Date             \n",
       "2013-01-31    100\n",
       "2013-02-28    105\n",
       "2013-03-31    110"
      ]
     },
     "execution_count": 6,
     "metadata": {},
     "output_type": "execute_result"
    }
   ],
   "source": [
    "rates = pd.read_json(TS['rates'].to_json(), orient='index')\n",
    "rates.set_index('Date',inplace = True)\n",
    "rates.head()"
   ]
  },
  {
   "cell_type": "markdown",
   "metadata": {},
   "source": [
    "Taking the \"rates['value']\" as a Series, we can then plot this."
   ]
  },
  {
   "cell_type": "code",
   "execution_count": 8,
   "metadata": {
    "collapsed": false,
    "scrolled": true
   },
   "outputs": [
    {
     "data": {
      "image/png": "[encoded data removed]",
      "text/plain": [
       "<matplotlib.figure.Figure at 0x4f04a20>"
      ]
     },
     "metadata": {},
     "output_type": "display_data"
    }
   ],
   "source": [
    "import matplotlib.pyplot as plt\n",
    "plt.plot(rates['value'])\n",
    "plt.show()"
   ]
  }
 ],
 "metadata": {
  "kernelspec": {
   "display_name": "Python 3",
   "language": "python",
   "name": "python3"
  },
  "language_info": {
   "codemirror_mode": {
    "name": "ipython",
    "version": 3
   },
   "file_extension": ".py",
   "mimetype": "text/x-python",
   "name": "python",
   "nbconvert_exporter": "python",
   "pygments_lexer": "ipython3",
   "version": "3.6.0"
  },
  "toc": {
   "colors": {
    "hover_highlight": "#DAA520",
    "navigate_num": "#000000",
    "navigate_text": "#333333",
    "running_highlight": "#FF0000",
    "selected_highlight": "#FFD700",
    "sidebar_border": "#EEEEEE",
    "wrapper_background": "#FFFFFF"
   },
   "moveMenuLeft": true,
   "nav_menu": {
    "height": "48px",
    "width": "252px"
   },
   "navigate_menu": true,
   "number_sections": false,
   "sideBar": true,
   "threshold": 4,
   "toc_cell": false,
   "toc_section_display": "block",
   "toc_window_display": false,
   "widenNotebook": false
  }
 },
 "nbformat": 4,
 "nbformat_minor": 2
}

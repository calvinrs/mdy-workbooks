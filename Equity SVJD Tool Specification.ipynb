{
 "cells": [
  {
   "cell_type": "markdown",
   "metadata": {},
   "source": [
    "# Equity Real World SVJD Tool Specifcation\n",
    "\n",
    "Our aim here is to use the functionality in the **MoodysAnalytics.Calibration.Tool.RealWorldEquity** project to replicate the functionality in the excel **CalibrationTool_Best_Views_SVJD** used in production.  \n",
    "\n",
    "### Excel tool example\n",
    "\n",
    "See [EndSep2017_RW_SVJD_CalibrationTool_Best_Views_SVJD.xlsm](V:\\Deliverables\\StandardCalibrations\\Calibration\\EndSep2017\\Real World\\EndSep2017_RW_SVJD_CalibrationTool_Best_Views_SVJD.xlsm) for an example of the current process.\n",
    "\n",
    "### See also - Constant Volatility\n",
    "\n",
    "The layout of this tool will be similar to the **Equity Constant Volatility** tool. It is also a *multi-asset* tool that will create at the end of the process a fit for each of the individual assets that we define as part of the tool run.  \n",
    "\n",
    "It will also take in as a Model input the result of the **Factor Calibration** performed by that tool. This will be the \"combined\" version of the results, and will reqiuire the **factorLoadingsArray** parameter.  \n",
    "\n",
    "### Validation not included\n",
    "\n",
    "We will need to replicate the *validation* step in the current excel tool. This will be done outside of the calibration tool method, and will be its own tool, with the approach TBD.  \n",
    "\n",
    "It is likely we can use the same tool for both SVJD and constant volatility validation, albeit with lots of additional outputs that are required for SVJD only.  "
   ]
  },
  {
   "attachments": {},
   "cell_type": "markdown",
   "metadata": {},
   "source": [
    "## SVJD Calibration in Ghost\n",
    "\n",
    "Like the constant volatility tool, there will be two stages of calibration, that come from separate tool run methods in the Ghost code base.  \n",
    "\n",
    "We will also need to use a \"sorter tool\" for each asset, to extract the \"per-asset\" result from the final \"combined\" results.  \n",
    "\n",
    "Unlike the constant volatilty tool, the first tool that we use is not a complete calibration on its own - it is an intermediate step on the way to the final calibration. This could lead to us considering creating a single tool wrapper around both methods, but I would lean toward separate Mercury tools so that these can be maintained separately.  \n",
    "\n",
    "### SVJD Calibration in a nutshell\n",
    "\n",
    "Boiled down to its core, the steps that we need to do in the SVJD calibration process is:\n",
    "\n",
    "+ Calibrate the *Volatility* of the **First Equity Factor** as an SVJD model.\n",
    "    + This is targeted to market *one month volatility* targets.\n",
    "    + We start with the existing **Assets.EQ.Factors.Sigma.Const** model for all (6) factors, which are using a *Constant Volatility* model for their volatility.\n",
    "    + We make the **First Equity Factor** an SVJD model, and recalibrate.\n",
    "+ Calibrate the *Volatility* of **Each Equity Asset** using an SJVD model for the *specific volatility* of the asset.\n",
    "    + The assets will take a *Systematic Volatility* as the product of the **Factor Calibration** and the **Factor Loadings**\n",
    "    + We will take in the *Specific Volatility* for each asset - this is the result from the constant volatility calibration.\n",
    "    + The **Factor Loadings** come from a constant volatility calibration, and remain unchanged.\n",
    "    + The **Jump Parameters** of the **First Equity Factor** SVJD model are calibrated to market *Skew* and *Kurtosis* targets.\n",
    "    + We then **calculate** the individual SVJD model calibration for each asset.\n",
    "    \n",
    "#### The \"gotcha\" here.\n",
    "\n",
    "There are a lot of \"in the margin\" calculations that sit outside of the method outputs that produce the actual model calibration for the SVJD models for the **First Equity Factor** and **Each Equity Asset**.  \n",
    "\n",
    "These do appear to all reside in the SVJD code base, so we should not need to port anything from the excel wrapper this time, touch wood.  \n",
    "\n",
    "### TMT Diagram\n",
    "\n",
    "We can start this time by showing the proposed TMT diagram for the entire SVJD calibration process.  \n",
    "\n",
    "![](images/TMT_SVJD_3ToolSolution.svg)\n",
    "\n",
    "\n",
    "So, as described in the steps above.  \n",
    "\n",
    "We should now go a little deeper into the Ghost code, and see how we map into these tools.  "
   ]
  },
  {
   "cell_type": "markdown",
   "metadata": {},
   "source": [
    "## Tool Method Mapping\n",
    "\n",
    "The methods that we need to use from the Ghost project are:\n",
    "\n"
   ]
  }
 ],
 "metadata": {
  "kernelspec": {
   "display_name": "Python 3",
   "language": "python",
   "name": "python3"
  },
  "language_info": {
   "codemirror_mode": {
    "name": "ipython",
    "version": 3
   },
   "file_extension": ".py",
   "mimetype": "text/x-python",
   "name": "python",
   "nbconvert_exporter": "python",
   "pygments_lexer": "ipython3",
   "version": "3.6.0"
  },
  "toc": {
   "colors": {
    "hover_highlight": "#DAA520",
    "navigate_num": "#000000",
    "navigate_text": "#333333",
    "running_highlight": "#FF0000",
    "selected_highlight": "#FFD700",
    "sidebar_border": "#EEEEEE",
    "wrapper_background": "#FFFFFF"
   },
   "moveMenuLeft": true,
   "nav_menu": {
    "height": "230px",
    "width": "252px"
   },
   "navigate_menu": true,
   "number_sections": false,
   "sideBar": true,
   "threshold": 4,
   "toc_cell": false,
   "toc_section_display": "block",
   "toc_window_display": true,
   "widenNotebook": false
  }
 },
 "nbformat": 4,
 "nbformat_minor": 2
}
